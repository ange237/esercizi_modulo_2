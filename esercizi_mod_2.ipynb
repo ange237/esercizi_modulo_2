{
 "cells": [
  {
   "cell_type": "code",
   "execution_count": 2,
   "id": "b1a63574",
   "metadata": {},
   "outputs": [
    {
     "name": "stdout",
     "output_type": "stream",
     "text": [
      "il prodotto è numero:  300\n"
     ]
    }
   ],
   "source": [
    "\"\"\"1) Scrivere un'espressione che calcola il valore del prodotto tra due numeri interi.\"\"\"\n",
    "numero_1=10\n",
    "numero_2=30\n",
    "prodotto=numero_1*numero_2\n",
    "print(\"il prodotto è numero: \",prodotto)"
   ]
  },
  {
   "cell_type": "code",
   "execution_count": 4,
   "id": "3fb9c632",
   "metadata": {},
   "outputs": [
    {
     "name": "stdout",
     "output_type": "stream",
     "text": [
      "il valore dell'esponenziale è:  32\n"
     ]
    }
   ],
   "source": [
    "\"\"\"2) Scrivere un'espressione che calcola il valore dell'operazione di esponenziazione tra due numeri interi a e b.\"\"\"\n",
    "a=2\n",
    "b=5\n",
    "esponential=a**b\n",
    "print(\"il valore dell'esponenziale è: \",esponential)\n"
   ]
  },
  {
   "cell_type": "code",
   "execution_count": 5,
   "id": "b2e13f78",
   "metadata": {},
   "outputs": [
    {
     "name": "stdout",
     "output_type": "stream",
     "text": [
      "la stringa concatenata è:  angel de la cruz\n"
     ]
    }
   ],
   "source": [
    "\"\"\"3) Scrivere un'espressione che concatena due stringhe s1 e s2.\"\"\"\n",
    "stringa_1=\"angel \"\n",
    "stringa_2=\"de la cruz\"\n",
    "concat=stringa_1+stringa_2\n",
    "print(\"la stringa concatenata è: \",concat)"
   ]
  },
  {
   "cell_type": "code",
   "execution_count": 6,
   "id": "5b4f6bdb",
   "metadata": {},
   "outputs": [
    {
     "name": "stdout",
     "output_type": "stream",
     "text": [
      "numero pari\n"
     ]
    }
   ],
   "source": [
    "\"\"\"Scrivere un'espressione che verifica se un numero intero x è pari o dispari\"\"\"\n",
    "numero=10\n",
    "print(\"numero pari\") if numero%2 == 0 else print(\"numero dispari\")"
   ]
  },
  {
   "cell_type": "code",
   "execution_count": 7,
   "id": "a28312c0",
   "metadata": {},
   "outputs": [
    {
     "name": "stdout",
     "output_type": "stream",
     "text": [
      "l'area del cerchio è: 314.0\n"
     ]
    }
   ],
   "source": [
    "\"\"\"5) Scrivere un'espressione che calcola il valore dell'area di un cerchio di raggio r.\"\"\"\n",
    "ragio=10\n",
    "area=3.14*ragio*ragio\n",
    "print(\"l'area del cerchio è:\",area)"
   ]
  },
  {
   "cell_type": "code",
   "execution_count": 8,
   "id": "289edaa3",
   "metadata": {},
   "outputs": [
    {
     "name": "stdout",
     "output_type": "stream",
     "text": [
      "la somma dei quadrari è: 386\n"
     ]
    }
   ],
   "source": [
    "\"\"\"6) Scrivere un'espressione che calcola la somma dei quadrati di due numeri interi a e b.\"\"\"\n",
    "a=19\n",
    "b=5\n",
    "somma=(a*a)+(b*b)\n",
    "print(\"la somma dei quadrari è:\",somma)"
   ]
  },
  {
   "cell_type": "code",
   "execution_count": 9,
   "id": "b0068550",
   "metadata": {},
   "outputs": [
    {
     "name": "stdout",
     "output_type": "stream",
     "text": [
      "la media dei numeri è:  7.0\n"
     ]
    }
   ],
   "source": [
    "\"\"\"7) Scrivere un'espressione che calcola il valore della media aritmetica di una lista di numeri n.\"\"\"\n",
    "lista_num=[3,6,9,10]\n",
    "media=sum(lista_num)/len(lista_num)\n",
    "print(\"la media dei numeri è: \",media)"
   ]
  },
  {
   "cell_type": "code",
   "execution_count": 10,
   "id": "21d16fc2",
   "metadata": {},
   "outputs": [
    {
     "name": "stdout",
     "output_type": "stream",
     "text": [
      "il massimo della lista è:  30\n"
     ]
    }
   ],
   "source": [
    "\"\"\"8) Scrivere un'espressione che restituisce il valore massimo di una lista di numeri.\"\"\"\n",
    "lista_num=[7,30,24,8]\n",
    "massimo=max(lista_num)\n",
    "print(\"il massimo della lista è: \",massimo)"
   ]
  },
  {
   "cell_type": "code",
   "execution_count": null,
   "id": "636a7813",
   "metadata": {},
   "outputs": [],
   "source": [
    "\"\"\"9) Scrivere un identificatore valido e uno non valido.\"\"\"\n",
    "#identificatore valido: nome_ristorante\n",
    "#identificatore non valido: NomeRISTORANTE"
   ]
  },
  {
   "cell_type": "code",
   "execution_count": null,
   "id": "13b179be",
   "metadata": {},
   "outputs": [],
   "source": [
    "\"\"\"10) Qual è la convenzione di naming per le variabili e per le costanti in Python?\"\"\"\n",
    "\n",
    "\"\"\"in python, per il nome delle variabili si usano solo caratteri minuscoli\n",
    "mentre per il nome delle costanti si usano solo caratteri MAIUSCOLI\n",
    "\"\"\""
   ]
  },
  {
   "cell_type": "code",
   "execution_count": null,
   "id": "900b0430",
   "metadata": {},
   "outputs": [],
   "source": [
    "\"\"\"11) Qual è l'identificatore riservato in Python per indicare una funzione lambda?\"\"\"\n",
    "# è la parola lambda"
   ]
  },
  {
   "cell_type": "code",
   "execution_count": 6,
   "id": "80fb4ee4",
   "metadata": {},
   "outputs": [
    {
     "name": "stdout",
     "output_type": "stream",
     "text": [
      "valore inserito non valido\n"
     ]
    }
   ],
   "source": [
    "\"\"\"12) Scrivere un programma che richiede all'utente d’inserire un numero intero e stampa il suo quadrato. \n",
    "In caso d’inserimento di un valore non valido, il programma deve gestire l'eccezione e stampare un messaggio di errore.\"\"\"\n",
    "\n",
    "try:\n",
    "   numero:int = int(input(\"inserire un valore intero >>\"))\n",
    "   quadrtato=numero*numero\n",
    "   print(\"il quadrato del numero inserito è: \",quadrtato)\n",
    "except:\n",
    "   print(\"valore inserito non valido\")   \n",
    "\n"
   ]
  },
  {
   "cell_type": "code",
   "execution_count": 21,
   "id": "108dd78b",
   "metadata": {},
   "outputs": [
    {
     "name": "stdout",
     "output_type": "stream",
     "text": [
      "salve a tutti\n",
      "\n",
      "questo file Ã¨ stato creato nello scopo di eseguire l'esercizio 13\n",
      "\n",
      "infatti non contiene nessuna informazione rilevante per la vostra vita\n",
      "\n",
      "quindi skippate.\n"
     ]
    }
   ],
   "source": [
    "\"\"\"13) Scrivere un programma che apre un file di testo e stampa il suo contenuto riga per riga. \n",
    "In caso di errore nell'apertura del file, il programma deve gestire l'eccezione e stampare un messaggio di errore.\"\"\"\n",
    "\n",
    "\n",
    "try:\n",
    "    f=open(\"./esercizio_13\",\"r\",1)\n",
    "except:\n",
    "    print(\"errore apertura file\") \n",
    "else:        \n",
    "    while True:\n",
    "        riga:str=f.readline()\n",
    "        if not riga:\n",
    "            break\n",
    "        print(riga)\n",
    "    f.close()    \n",
    " \n",
    "    "
   ]
  },
  {
   "cell_type": "code",
   "execution_count": 9,
   "id": "c745c99b",
   "metadata": {},
   "outputs": [
    {
     "name": "stdout",
     "output_type": "stream",
     "text": [
      "division by zero\n",
      "0.5\n"
     ]
    }
   ],
   "source": [
    "\"\"\"14) Scrivere una funzione che divide due numeri e gestisce l'eccezione di divisione per zero.\"\"\"\n",
    "def divide(a,b):\n",
    "    try:\n",
    "        div=a/b\n",
    "    except ZeroDivisionError as e:\n",
    "        #print(e)\n",
    "        return e\n",
    "    else:\n",
    "        return div    \n",
    "\n",
    "    \n",
    "print(divide(2,0))\n",
    "print(divide(1,2))"
   ]
  },
  {
   "cell_type": "code",
   "execution_count": 7,
   "id": "3f6b4d70",
   "metadata": {},
   "outputs": [
    {
     "name": "stdout",
     "output_type": "stream",
     "text": [
      "ERRORE: valore non valido\n"
     ]
    }
   ],
   "source": [
    "\"\"\"15) Scrivere un programma che richiede all'utente d’inserire una lista di numeri interi e ne stampa il valore massimo. \n",
    "In caso d’inserimento di un valore non valido, il programma deve gestire l'eccezione e stampare un messaggio di errore.\"\"\"\n",
    "\n",
    "lista_numeri=[]\n",
    "try:\n",
    "    lun:int = int(input(\"inserire il numero di numeri della lista:\"))\n",
    "    for i in range(lun):\n",
    "        numero:int = int(input(\"inserire numero\"))\n",
    "        lista_numeri.append(numero)\n",
    "    massimo=max(lista_numeri)\n",
    "    print(\"il massimo numero è : \",massimo)  \n",
    "except:\n",
    "    print(\"ERRORE: valore non valido\")      "
   ]
  },
  {
   "cell_type": "code",
   "execution_count": 8,
   "id": "a04e9809",
   "metadata": {},
   "outputs": [
    {
     "name": "stdout",
     "output_type": "stream",
     "text": [
      "division by zero\n",
      "0.02\n"
     ]
    }
   ],
   "source": [
    "\"\"\"16) Scrivere una funzione che calcoli il reciproco di un numero e che gestisca l'eccezione di divisione per zero usando ZeroDivisionError.\"\"\"\n",
    "\n",
    "def reciproco(numero:int):\n",
    "    try:\n",
    "        rec=1/numero\n",
    "        return rec\n",
    "    except ZeroDivisionError as e:\n",
    "        return e\n",
    "\n",
    "print(reciproco(0))\n",
    "print(reciproco(50))    "
   ]
  },
  {
   "cell_type": "code",
   "execution_count": null,
   "id": "c9cc28c9",
   "metadata": {},
   "outputs": [],
   "source": [
    "\"\"\"17) Scrivere un programma che crea un nuovo file di testo e che scriva una serie di righe in esso.\"\"\"\n",
    "try:\n",
    "    f=open(\"./esercizio_17\",\"w\",1)\n",
    "except:\n",
    "    print(\"errore apertura file\")\n",
    "else:\n",
    "    f.write(\"\"\"ciao a tutti, questo è solo una prova\n",
    "            per vedere se tutto funziona bene.\"\"\")\n",
    "    f.close()\n"
   ]
  },
  {
   "cell_type": "code",
   "execution_count": null,
   "id": "920ce176",
   "metadata": {},
   "outputs": [],
   "source": [
    "\"\"\"18) Scrivere un programma che apre un file di testo esistente, legga il suo contenuto e ne stampi ogni riga.\"\"\"\n",
    "#vedere esercizio 13"
   ]
  },
  {
   "cell_type": "code",
   "execution_count": 11,
   "id": "cc3b403a",
   "metadata": {},
   "outputs": [],
   "source": [
    "\"\"\"19) Scrivere un programma che copia il contenuto di un file di testo in un altro file.\"\"\"\n",
    "\n",
    "read_file=open(\"./esercizio_19_file_1\",\"r\",1)\n",
    "write_file=open(\"./esercizio_19_file_2\",\"w\")\n",
    "\n",
    "while True:\n",
    "    riga=read_file.readline()\n",
    "    if not riga:\n",
    "      break\n",
    "    write_file.write(riga)\n",
    "read_file.close()\n",
    "write_file.close()      \n"
   ]
  },
  {
   "cell_type": "code",
   "execution_count": 84,
   "id": "64038e49",
   "metadata": {},
   "outputs": [
    {
     "name": "stdout",
     "output_type": "stream",
     "text": [
      " 28 anni 11 mesi 15 giorni\n",
      "l'utente è nato un giovedì\n"
     ]
    }
   ],
   "source": [
    "\"\"\"20) Scrivere un programma che chiede all'utente d’inserire la propria data di nascita (nel formato GG-MM-ANNO) \n",
    "e calcoli l'età in giorni, mesi e anni. \n",
    "Il programma deve anche calcolare il giorno della settimana in cui l'utente è nato.\"\"\"\n",
    "\n",
    "import datetime\n",
    "import locale\n",
    "locale.setlocale(locale.LC_TIME, \"it_IT\")\n",
    "\n",
    "#scrivere un funzione che dato in intero un numero di giorni lo converte in anni,mese e giorni\n",
    "#1 anno= 365 giorni e un mese =30 giorni\n",
    "def anno(numero):\n",
    "    data=\"\"\n",
    "    if numero <365:\n",
    "        data= data+\" \"+str(numero)+\" giorni\"\n",
    "    else :\n",
    "        anni=int(numero/366)\n",
    "        if numero %365 == 0:\n",
    "            data= data+\" \"+str(anni)+\" \"+\"anni\"\n",
    "        else:\n",
    "            numero=numero-(anni*365)\n",
    "            mese=int(numero/31)\n",
    "            if numero%31 == 0:\n",
    "                data= data+\" \"+str(anni)+\" \"+\"anni\"+\" \"+str(mese)+\" \"+\"mesi\"\n",
    "            else:\n",
    "                numero=numero-(mese*31)\n",
    "                data=data+\" \"+str(anni)+\" \"+\"anni\"+\" \"+str(mese)+\" \"+\"mesi\"+\" \"+str(numero)+\" giorni\"\n",
    "    return data \n",
    "\n",
    "data_attuale = datetime.datetime.now()\n",
    "data_attuale=data_attuale.date()\n",
    "data_in:str=str(input(\"inserire la propria data di nascita (nel formato GG-MM-ANNO)\"))\n",
    "#print(data_in)\n",
    "#print(type(data_attuale))\n",
    "\n",
    "\n",
    "data_in=data_in.split(\"-\")\n",
    "#print(data_in)\n",
    "data_in=datetime.datetime(int(data_in[2]),int(data_in[1]),int(data_in[0]))\n",
    "data_in=data_in.date()\n",
    "#print(data_in)\n",
    "\n",
    "\n",
    "#data=datetime.strptime(\"%A-%B-%Y\")\n",
    "dif=data_attuale-data_in\n",
    "#dif=dif.days\n",
    "#print(type(dif.days))\n",
    "#print(dif)\n",
    "\n",
    "print(anno(dif.days))\n",
    "print(\"l'utente è nato un\",data_in.strftime('%A'))\n",
    "#print(dif.days)\n",
    "#print(dif.days)\n",
    "#età=dif.strptime(\"%Y\")\n",
    "#giorno_nascita=dif.strftime(\"%A\")\n",
    "\n",
    "#print(f\"lutente ha {età} e è nato il {giorno} \")\n",
    "#scrivere un funzione che dato in intero un numero di giorni lo converte in anni,mese e giorni\n",
    "\n",
    "\n"
   ]
  },
  {
   "cell_type": "code",
   "execution_count": 74,
   "id": "f51e185f",
   "metadata": {},
   "outputs": [
    {
     "name": "stdout",
     "output_type": "stream",
     "text": [
      "29 anni 1 mesi 14 giorni\n",
      "l'utente è nato un  giovedì\n"
     ]
    }
   ],
   "source": [
    "import datetime\n",
    "import math\n",
    "import locale\n",
    "locale.setlocale(locale.LC_TIME, \"it_IT\")\n",
    "\n",
    "data_attuale = datetime.datetime.now()\n",
    "#data_attuale=data_attuale.date()\n",
    "data_in:str=str(input(\"inserire la propria data di nascita (nel formato GG-MM-ANNO)\"))\n",
    "\n",
    "data_in=data_in.split(\"-\")\n",
    "data_in=datetime.datetime(int(data_in[2]),int(data_in[1]),int(data_in[0]))\n",
    "#data_in=data_in.date()\n",
    "#dif=data_attuale-data_in\n",
    "\n",
    "#data_nuova=data_attuale-datetime.timedelta(days = dif.days)\n",
    "\n",
    "print(f\"{data_attuale.year-data_in.year} anni {abs(data_attuale.month-data_in.month)} mesi {abs(data_attuale.day-data_in.day)} giorni\")\n",
    "print(\"l'utente è nato un \",data_in.strftime('%A'))\n",
    "         "
   ]
  },
  {
   "cell_type": "code",
   "execution_count": null,
   "id": "e2d6bd92",
   "metadata": {},
   "outputs": [],
   "source": [
    "\"\"\"21) Qual è la funzione utilizzata per aprire un file in Python?\"\"\"\n",
    "# open()"
   ]
  },
  {
   "cell_type": "code",
   "execution_count": null,
   "id": "607df2dc",
   "metadata": {},
   "outputs": [],
   "source": [
    "\"\"\"22) Qual è il metodo utilizzato per creare una nuova directory in Python?\"\"\"\n",
    "# si tratta del metodo mkdir di os"
   ]
  },
  {
   "cell_type": "code",
   "execution_count": null,
   "id": "a905d478",
   "metadata": {},
   "outputs": [],
   "source": [
    "\"\"\"23) Come si legge un file di testo riga per riga in Python?\"\"\"\n",
    "#dopo aver aperto il file in modalità lettura(\"r\"), si usa il metodo readline()"
   ]
  },
  {
   "cell_type": "code",
   "execution_count": null,
   "id": "545d419a",
   "metadata": {},
   "outputs": [],
   "source": [
    "\"\"\"24) Qual è il metodo utilizzato per ottenere il percorso assoluto di un file?\"\"\"\n",
    "#si tratta del metodo path()"
   ]
  },
  {
   "cell_type": "code",
   "execution_count": null,
   "id": "ac1f2c13",
   "metadata": {},
   "outputs": [],
   "source": [
    "\"\"\"25) Qual è il metodo utilizzato per scrivere su un file di testo in Python?\"\"\"\n",
    "#si tratta del metodo write()"
   ]
  },
  {
   "cell_type": "code",
   "execution_count": null,
   "id": "a27df307",
   "metadata": {},
   "outputs": [],
   "source": [
    "\"\"\"26) Come si calcola la differenza tra due date utilizzando il modulo datetime?\"\"\"\n",
    "#si usa l 'operatore di sostrazione meno(-)"
   ]
  },
  {
   "cell_type": "code",
   "execution_count": null,
   "id": "90b0f47c",
   "metadata": {},
   "outputs": [],
   "source": [
    "\"\"\"27) Qual è il metodo utilizzato per ottenere il timestamp corrente in Python?\"\"\"\n",
    "#si tratta del metodo now()"
   ]
  },
  {
   "cell_type": "code",
   "execution_count": 51,
   "id": "ec0a6c52",
   "metadata": {},
   "outputs": [
    {
     "name": "stdout",
     "output_type": "stream",
     "text": [
      "il numero è pari \n"
     ]
    }
   ],
   "source": [
    "\"\"\"28) Scrivere un listato che richieda all'utente d’inserire un numero intero, e di stampare su schermo \"Il numero inserito è pari\" \n",
    "se il numero è pari, \"Il numero inserito è dispari\" \n",
    "se il numero è dispari.\"\"\"\n",
    "\n",
    "numero = int(input(\"inserire un numero: \"))\n",
    "print(\"il numero è pari \") if numero%2 == 0 else  print(\"il numero è dispari.\")"
   ]
  },
  {
   "cell_type": "code",
   "execution_count": 53,
   "id": "b7f4bdfd",
   "metadata": {},
   "outputs": [
    {
     "name": "stdout",
     "output_type": "stream",
     "text": [
      "il prezzo scontato è: 13.475\n"
     ]
    }
   ],
   "source": [
    "\"\"\"29) Scrivere un programma che chieda all'utente\n",
    " d’inserire il prezzo di un prodotto e il tasso di sconto da applicare. Calcolarne poi il prezzo scontato e stamparlo su schermo.\"\"\"\n",
    "\n",
    "prezzo=float(input(\"inserire il prezzo di un prodotto: \"))\n",
    "sconto=int(input(\"inserire lo sconto: \"))\n",
    "differenza=prezzo*sconto/100\n",
    "prezzo_scontato=prezzo-differenza\n",
    "\n",
    "print(f\"il prezzo scontato è: {prezzo_scontato}\")\n",
    "\n"
   ]
  },
  {
   "cell_type": "code",
   "execution_count": null,
   "id": "028ad9d1",
   "metadata": {},
   "outputs": [],
   "source": [
    "\"\"\"30) Scrivere un programma che richieda all'utente di\n",
    " inserire un numero intero e di verificare se è pari o dispari. Stampare un messaggio appropriato, a seconda del caso.\"\"\"\n",
    "\n",
    "numero = int(input(\"inserire un numero: \"))\n",
    "print(\"il numero è pari \") if numero%2 == 0 else  print(\"il numero è dispari.\")"
   ]
  }
 ],
 "metadata": {
  "kernelspec": {
   "display_name": "env",
   "language": "python",
   "name": "python3"
  },
  "language_info": {
   "codemirror_mode": {
    "name": "ipython",
    "version": 3
   },
   "file_extension": ".py",
   "mimetype": "text/x-python",
   "name": "python",
   "nbconvert_exporter": "python",
   "pygments_lexer": "ipython3",
   "version": "3.13.3"
  }
 },
 "nbformat": 4,
 "nbformat_minor": 5
}
